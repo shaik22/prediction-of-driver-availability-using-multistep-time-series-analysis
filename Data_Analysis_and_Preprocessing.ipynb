{
  "nbformat": 4,
  "nbformat_minor": 0,
  "metadata": {
    "kernelspec": {
      "display_name": "Python 3",
      "language": "python",
      "name": "python3"
    },
    "language_info": {
      "codemirror_mode": {
        "name": "ipython",
        "version": 3
      },
      "file_extension": ".py",
      "mimetype": "text/x-python",
      "name": "python",
      "nbconvert_exporter": "python",
      "pygments_lexer": "ipython3",
      "version": "3.7.6"
    },
    "colab": {
      "name": "1. Data Analysis and Preprocessing.ipynb",
      "provenance": []
    }
  },
  "cells": [
    {
      "cell_type": "code",
      "metadata": {
        "id": "mbG0AiW9ojCq"
      },
      "source": [
        "import pandas as pd\n",
        "import numpy as np\n",
        "import pandas_profiling\n",
        "from datetime import timedelta"
      ],
      "execution_count": null,
      "outputs": []
    },
    {
      "cell_type": "markdown",
      "metadata": {
        "id": "DKRlM_fdojC1"
      },
      "source": [
        "## Driver Data Analysis"
      ]
    },
    {
      "cell_type": "code",
      "metadata": {
        "id": "i0w6GLkfojC1"
      },
      "source": [
        "df_drivers = pd.read_csv('./../data/drivers.csv')"
      ],
      "execution_count": null,
      "outputs": []
    },
    {
      "cell_type": "code",
      "metadata": {
        "id": "cS6206SkojC2",
        "outputId": "8a1c0e0b-e836-426b-e3a1-5388fdcd976e"
      },
      "source": [
        "print(\"Intially Number of Rows in Driver.csv\", len(df_drivers))"
      ],
      "execution_count": null,
      "outputs": [
        {
          "output_type": "stream",
          "text": [
            "Intially Number of Rows in Driver.csv 2500\n"
          ],
          "name": "stdout"
        }
      ]
    },
    {
      "cell_type": "code",
      "metadata": {
        "id": "vSaNrAaPojC3",
        "outputId": "7813de5d-8e49-4a58-f49d-e18b61034d06"
      },
      "source": [
        "df_drivers.head(10)"
      ],
      "execution_count": null,
      "outputs": [
        {
          "output_type": "execute_result",
          "data": {
            "text/html": [
              "<div>\n",
              "<style scoped>\n",
              "    .dataframe tbody tr th:only-of-type {\n",
              "        vertical-align: middle;\n",
              "    }\n",
              "\n",
              "    .dataframe tbody tr th {\n",
              "        vertical-align: top;\n",
              "    }\n",
              "\n",
              "    .dataframe thead th {\n",
              "        text-align: right;\n",
              "    }\n",
              "</style>\n",
              "<table border=\"1\" class=\"dataframe\">\n",
              "  <thead>\n",
              "    <tr style=\"text-align: right;\">\n",
              "      <th></th>\n",
              "      <th>driver_id</th>\n",
              "      <th>gender</th>\n",
              "      <th>age</th>\n",
              "      <th>number_of_kids</th>\n",
              "    </tr>\n",
              "  </thead>\n",
              "  <tbody>\n",
              "    <tr>\n",
              "      <th>0</th>\n",
              "      <td>979863</td>\n",
              "      <td>MALE</td>\n",
              "      <td>26</td>\n",
              "      <td>2</td>\n",
              "    </tr>\n",
              "    <tr>\n",
              "      <th>1</th>\n",
              "      <td>780123</td>\n",
              "      <td>MALE</td>\n",
              "      <td>60</td>\n",
              "      <td>2</td>\n",
              "    </tr>\n",
              "    <tr>\n",
              "      <th>2</th>\n",
              "      <td>614848</td>\n",
              "      <td>MALE</td>\n",
              "      <td>45</td>\n",
              "      <td>4</td>\n",
              "    </tr>\n",
              "    <tr>\n",
              "      <th>3</th>\n",
              "      <td>775046</td>\n",
              "      <td>MALE</td>\n",
              "      <td>62</td>\n",
              "      <td>3</td>\n",
              "    </tr>\n",
              "    <tr>\n",
              "      <th>4</th>\n",
              "      <td>991601</td>\n",
              "      <td>MALE</td>\n",
              "      <td>23</td>\n",
              "      <td>0</td>\n",
              "    </tr>\n",
              "    <tr>\n",
              "      <th>5</th>\n",
              "      <td>670477</td>\n",
              "      <td>MALE</td>\n",
              "      <td>36</td>\n",
              "      <td>1</td>\n",
              "    </tr>\n",
              "    <tr>\n",
              "      <th>6</th>\n",
              "      <td>194053</td>\n",
              "      <td>MALE</td>\n",
              "      <td>35</td>\n",
              "      <td>0</td>\n",
              "    </tr>\n",
              "    <tr>\n",
              "      <th>7</th>\n",
              "      <td>364596</td>\n",
              "      <td>FEMALE</td>\n",
              "      <td>36</td>\n",
              "      <td>4</td>\n",
              "    </tr>\n",
              "    <tr>\n",
              "      <th>8</th>\n",
              "      <td>640428</td>\n",
              "      <td>MALE</td>\n",
              "      <td>28</td>\n",
              "      <td>0</td>\n",
              "    </tr>\n",
              "    <tr>\n",
              "      <th>9</th>\n",
              "      <td>154517</td>\n",
              "      <td>MALE</td>\n",
              "      <td>25</td>\n",
              "      <td>2</td>\n",
              "    </tr>\n",
              "  </tbody>\n",
              "</table>\n",
              "</div>"
            ],
            "text/plain": [
              "   driver_id  gender  age  number_of_kids\n",
              "0     979863    MALE   26               2\n",
              "1     780123    MALE   60               2\n",
              "2     614848    MALE   45               4\n",
              "3     775046    MALE   62               3\n",
              "4     991601    MALE   23               0\n",
              "5     670477    MALE   36               1\n",
              "6     194053    MALE   35               0\n",
              "7     364596  FEMALE   36               4\n",
              "8     640428    MALE   28               0\n",
              "9     154517    MALE   25               2"
            ]
          },
          "metadata": {
            "tags": []
          },
          "execution_count": 5
        }
      ]
    },
    {
      "cell_type": "code",
      "metadata": {
        "id": "lkHT9ejrojC4",
        "outputId": "0c3fbf81-e706-4b45-e4c1-57cb7dda6a35"
      },
      "source": [
        "## Driver Profile Data contains Duplicates\n",
        "df_drivers[df_drivers.duplicated(subset=['driver_id'],keep=False)]"
      ],
      "execution_count": null,
      "outputs": [
        {
          "output_type": "execute_result",
          "data": {
            "text/html": [
              "<div>\n",
              "<style scoped>\n",
              "    .dataframe tbody tr th:only-of-type {\n",
              "        vertical-align: middle;\n",
              "    }\n",
              "\n",
              "    .dataframe tbody tr th {\n",
              "        vertical-align: top;\n",
              "    }\n",
              "\n",
              "    .dataframe thead th {\n",
              "        text-align: right;\n",
              "    }\n",
              "</style>\n",
              "<table border=\"1\" class=\"dataframe\">\n",
              "  <thead>\n",
              "    <tr style=\"text-align: right;\">\n",
              "      <th></th>\n",
              "      <th>driver_id</th>\n",
              "      <th>gender</th>\n",
              "      <th>age</th>\n",
              "      <th>number_of_kids</th>\n",
              "    </tr>\n",
              "  </thead>\n",
              "  <tbody>\n",
              "    <tr>\n",
              "      <th>231</th>\n",
              "      <td>320227</td>\n",
              "      <td>MALE</td>\n",
              "      <td>22</td>\n",
              "      <td>4</td>\n",
              "    </tr>\n",
              "    <tr>\n",
              "      <th>388</th>\n",
              "      <td>320227</td>\n",
              "      <td>MALE</td>\n",
              "      <td>42</td>\n",
              "      <td>4</td>\n",
              "    </tr>\n",
              "    <tr>\n",
              "      <th>1311</th>\n",
              "      <td>799250</td>\n",
              "      <td>FEMALE</td>\n",
              "      <td>27</td>\n",
              "      <td>4</td>\n",
              "    </tr>\n",
              "    <tr>\n",
              "      <th>1550</th>\n",
              "      <td>800600</td>\n",
              "      <td>FEMALE</td>\n",
              "      <td>22</td>\n",
              "      <td>0</td>\n",
              "    </tr>\n",
              "    <tr>\n",
              "      <th>1765</th>\n",
              "      <td>799250</td>\n",
              "      <td>FEMALE</td>\n",
              "      <td>23</td>\n",
              "      <td>0</td>\n",
              "    </tr>\n",
              "    <tr>\n",
              "      <th>2008</th>\n",
              "      <td>800600</td>\n",
              "      <td>FEMALE</td>\n",
              "      <td>28</td>\n",
              "      <td>1</td>\n",
              "    </tr>\n",
              "  </tbody>\n",
              "</table>\n",
              "</div>"
            ],
            "text/plain": [
              "      driver_id  gender  age  number_of_kids\n",
              "231      320227    MALE   22               4\n",
              "388      320227    MALE   42               4\n",
              "1311     799250  FEMALE   27               4\n",
              "1550     800600  FEMALE   22               0\n",
              "1765     799250  FEMALE   23               0\n",
              "2008     800600  FEMALE   28               1"
            ]
          },
          "metadata": {
            "tags": []
          },
          "execution_count": 6
        }
      ]
    },
    {
      "cell_type": "markdown",
      "metadata": {
        "id": "Js-NGmpBojC5"
      },
      "source": [
        "### Same driver_id cannot have different profile data\n",
        "#### Considering first occurence to be correct. \n",
        "#### We have 2497 unique driver_id: profiles"
      ]
    },
    {
      "cell_type": "code",
      "metadata": {
        "id": "ierwQDPzojC6"
      },
      "source": [
        "## Keeping first occurence\n",
        "df_drivers.drop_duplicates(subset=['driver_id'], inplace = True)"
      ],
      "execution_count": null,
      "outputs": []
    },
    {
      "cell_type": "code",
      "metadata": {
        "id": "KVDMYK91ojC7",
        "outputId": "25aae5f9-6334-4388-93aa-37d16a9fcaa2"
      },
      "source": [
        "df_drivers.head(10)"
      ],
      "execution_count": null,
      "outputs": [
        {
          "output_type": "execute_result",
          "data": {
            "text/html": [
              "<div>\n",
              "<style scoped>\n",
              "    .dataframe tbody tr th:only-of-type {\n",
              "        vertical-align: middle;\n",
              "    }\n",
              "\n",
              "    .dataframe tbody tr th {\n",
              "        vertical-align: top;\n",
              "    }\n",
              "\n",
              "    .dataframe thead th {\n",
              "        text-align: right;\n",
              "    }\n",
              "</style>\n",
              "<table border=\"1\" class=\"dataframe\">\n",
              "  <thead>\n",
              "    <tr style=\"text-align: right;\">\n",
              "      <th></th>\n",
              "      <th>driver_id</th>\n",
              "      <th>gender</th>\n",
              "      <th>age</th>\n",
              "      <th>number_of_kids</th>\n",
              "    </tr>\n",
              "  </thead>\n",
              "  <tbody>\n",
              "    <tr>\n",
              "      <th>0</th>\n",
              "      <td>979863</td>\n",
              "      <td>MALE</td>\n",
              "      <td>26</td>\n",
              "      <td>2</td>\n",
              "    </tr>\n",
              "    <tr>\n",
              "      <th>1</th>\n",
              "      <td>780123</td>\n",
              "      <td>MALE</td>\n",
              "      <td>60</td>\n",
              "      <td>2</td>\n",
              "    </tr>\n",
              "    <tr>\n",
              "      <th>2</th>\n",
              "      <td>614848</td>\n",
              "      <td>MALE</td>\n",
              "      <td>45</td>\n",
              "      <td>4</td>\n",
              "    </tr>\n",
              "    <tr>\n",
              "      <th>3</th>\n",
              "      <td>775046</td>\n",
              "      <td>MALE</td>\n",
              "      <td>62</td>\n",
              "      <td>3</td>\n",
              "    </tr>\n",
              "    <tr>\n",
              "      <th>4</th>\n",
              "      <td>991601</td>\n",
              "      <td>MALE</td>\n",
              "      <td>23</td>\n",
              "      <td>0</td>\n",
              "    </tr>\n",
              "    <tr>\n",
              "      <th>5</th>\n",
              "      <td>670477</td>\n",
              "      <td>MALE</td>\n",
              "      <td>36</td>\n",
              "      <td>1</td>\n",
              "    </tr>\n",
              "    <tr>\n",
              "      <th>6</th>\n",
              "      <td>194053</td>\n",
              "      <td>MALE</td>\n",
              "      <td>35</td>\n",
              "      <td>0</td>\n",
              "    </tr>\n",
              "    <tr>\n",
              "      <th>7</th>\n",
              "      <td>364596</td>\n",
              "      <td>FEMALE</td>\n",
              "      <td>36</td>\n",
              "      <td>4</td>\n",
              "    </tr>\n",
              "    <tr>\n",
              "      <th>8</th>\n",
              "      <td>640428</td>\n",
              "      <td>MALE</td>\n",
              "      <td>28</td>\n",
              "      <td>0</td>\n",
              "    </tr>\n",
              "    <tr>\n",
              "      <th>9</th>\n",
              "      <td>154517</td>\n",
              "      <td>MALE</td>\n",
              "      <td>25</td>\n",
              "      <td>2</td>\n",
              "    </tr>\n",
              "  </tbody>\n",
              "</table>\n",
              "</div>"
            ],
            "text/plain": [
              "   driver_id  gender  age  number_of_kids\n",
              "0     979863    MALE   26               2\n",
              "1     780123    MALE   60               2\n",
              "2     614848    MALE   45               4\n",
              "3     775046    MALE   62               3\n",
              "4     991601    MALE   23               0\n",
              "5     670477    MALE   36               1\n",
              "6     194053    MALE   35               0\n",
              "7     364596  FEMALE   36               4\n",
              "8     640428    MALE   28               0\n",
              "9     154517    MALE   25               2"
            ]
          },
          "metadata": {
            "tags": []
          },
          "execution_count": 8
        }
      ]
    },
    {
      "cell_type": "code",
      "metadata": {
        "id": "CYSRAfuVojC7",
        "outputId": "d830cdaa-d6a8-4518-f082-219a9e237efb"
      },
      "source": [
        "# Info of Driver Dataset\n",
        "df_drivers.info()"
      ],
      "execution_count": null,
      "outputs": [
        {
          "output_type": "stream",
          "text": [
            "<class 'pandas.core.frame.DataFrame'>\n",
            "Int64Index: 2497 entries, 0 to 2499\n",
            "Data columns (total 4 columns):\n",
            " #   Column          Non-Null Count  Dtype \n",
            "---  ------          --------------  ----- \n",
            " 0   driver_id       2497 non-null   int64 \n",
            " 1   gender          2497 non-null   object\n",
            " 2   age             2497 non-null   int64 \n",
            " 3   number_of_kids  2497 non-null   int64 \n",
            "dtypes: int64(3), object(1)\n",
            "memory usage: 97.5+ KB\n"
          ],
          "name": "stdout"
        }
      ]
    },
    {
      "cell_type": "code",
      "metadata": {
        "id": "clsTZr6RojC8",
        "outputId": "b7246200-c24a-425e-ba24-046726ea64c3"
      },
      "source": [
        "#Count missing values\n",
        "np.count_nonzero(df_drivers.isnull().values)"
      ],
      "execution_count": null,
      "outputs": [
        {
          "output_type": "execute_result",
          "data": {
            "text/plain": [
              "0"
            ]
          },
          "metadata": {
            "tags": []
          },
          "execution_count": 10
        }
      ]
    },
    {
      "cell_type": "code",
      "metadata": {
        "id": "mEI2jzk1ojC9"
      },
      "source": [
        "df_drivers.reset_index(inplace = True, drop = True)"
      ],
      "execution_count": null,
      "outputs": []
    },
    {
      "cell_type": "code",
      "metadata": {
        "colab": {
          "referenced_widgets": [
            "5405b7de54994af388af1af984a73d42",
            "27ae3731415843c8bc0916e89b43603c",
            "a0ceebef11b9493aa42d89e22e404ad6",
            "4a0f529d34e240e9b57b9854cba9f829"
          ]
        },
        "id": "NDgXGnuWojC-",
        "outputId": "7d0199e1-e981-483e-81f7-7d4bc8065978"
      },
      "source": [
        "profile = df_drivers.profile_report(title='Driver DataSet Analysis')\n",
        "profile.to_file(output_file=\"../data_analysis_EDA/driver_data.html\")\n",
        "df_drivers.to_csv('../processed_data_and_models/driver.csv',index = False)"
      ],
      "execution_count": null,
      "outputs": [
        {
          "output_type": "display_data",
          "data": {
            "application/vnd.jupyter.widget-view+json": {
              "model_id": "5405b7de54994af388af1af984a73d42",
              "version_major": 2,
              "version_minor": 0
            },
            "text/plain": [
              "HBox(children=(FloatProgress(value=0.0, description='Summarize dataset', max=18.0, style=ProgressStyle(descrip…"
            ]
          },
          "metadata": {
            "tags": []
          }
        },
        {
          "output_type": "stream",
          "text": [
            "\n"
          ],
          "name": "stdout"
        },
        {
          "output_type": "display_data",
          "data": {
            "application/vnd.jupyter.widget-view+json": {
              "model_id": "27ae3731415843c8bc0916e89b43603c",
              "version_major": 2,
              "version_minor": 0
            },
            "text/plain": [
              "HBox(children=(FloatProgress(value=0.0, description='Generate report structure', max=1.0, style=ProgressStyle(…"
            ]
          },
          "metadata": {
            "tags": []
          }
        },
        {
          "output_type": "stream",
          "text": [
            "\n"
          ],
          "name": "stdout"
        },
        {
          "output_type": "display_data",
          "data": {
            "application/vnd.jupyter.widget-view+json": {
              "model_id": "a0ceebef11b9493aa42d89e22e404ad6",
              "version_major": 2,
              "version_minor": 0
            },
            "text/plain": [
              "HBox(children=(FloatProgress(value=0.0, description='Render HTML', max=1.0, style=ProgressStyle(description_wi…"
            ]
          },
          "metadata": {
            "tags": []
          }
        },
        {
          "output_type": "stream",
          "text": [
            "\n"
          ],
          "name": "stdout"
        },
        {
          "output_type": "display_data",
          "data": {
            "application/vnd.jupyter.widget-view+json": {
              "model_id": "4a0f529d34e240e9b57b9854cba9f829",
              "version_major": 2,
              "version_minor": 0
            },
            "text/plain": [
              "HBox(children=(FloatProgress(value=0.0, description='Export report to file', max=1.0, style=ProgressStyle(desc…"
            ]
          },
          "metadata": {
            "tags": []
          }
        },
        {
          "output_type": "stream",
          "text": [
            "\n"
          ],
          "name": "stdout"
        }
      ]
    },
    {
      "cell_type": "markdown",
      "metadata": {
        "id": "gXOnzbw0ojC_"
      },
      "source": [
        "## Pings Data Analysis and Preprocessing"
      ]
    },
    {
      "cell_type": "code",
      "metadata": {
        "id": "IAeI1dttojDA"
      },
      "source": [
        "df_pings = pd.read_csv('./../data/pings.csv')"
      ],
      "execution_count": null,
      "outputs": []
    },
    {
      "cell_type": "code",
      "metadata": {
        "id": "xvgc5X2fojDB",
        "outputId": "2c93695c-c15b-4ba8-f13d-d6f798d10e46"
      },
      "source": [
        "print(\"Intially Number of Rows in pings.csv\", len(df_pings))"
      ],
      "execution_count": null,
      "outputs": [
        {
          "output_type": "stream",
          "text": [
            "Intially Number of Rows in pings.csv 50528701\n"
          ],
          "name": "stdout"
        }
      ]
    },
    {
      "cell_type": "code",
      "metadata": {
        "id": "0teGVM-HojDC",
        "outputId": "22174bb3-9b4b-4aeb-f302-2abca616f614"
      },
      "source": [
        "df_pings.head(10)"
      ],
      "execution_count": null,
      "outputs": [
        {
          "output_type": "execute_result",
          "data": {
            "text/html": [
              "<div>\n",
              "<style scoped>\n",
              "    .dataframe tbody tr th:only-of-type {\n",
              "        vertical-align: middle;\n",
              "    }\n",
              "\n",
              "    .dataframe tbody tr th {\n",
              "        vertical-align: top;\n",
              "    }\n",
              "\n",
              "    .dataframe thead th {\n",
              "        text-align: right;\n",
              "    }\n",
              "</style>\n",
              "<table border=\"1\" class=\"dataframe\">\n",
              "  <thead>\n",
              "    <tr style=\"text-align: right;\">\n",
              "      <th></th>\n",
              "      <th>driver_id</th>\n",
              "      <th>ping_timestamp</th>\n",
              "    </tr>\n",
              "  </thead>\n",
              "  <tbody>\n",
              "    <tr>\n",
              "      <th>0</th>\n",
              "      <td>899313</td>\n",
              "      <td>1496278800</td>\n",
              "    </tr>\n",
              "    <tr>\n",
              "      <th>1</th>\n",
              "      <td>373017</td>\n",
              "      <td>1496278800</td>\n",
              "    </tr>\n",
              "    <tr>\n",
              "      <th>2</th>\n",
              "      <td>798984</td>\n",
              "      <td>1496278800</td>\n",
              "    </tr>\n",
              "    <tr>\n",
              "      <th>3</th>\n",
              "      <td>245966</td>\n",
              "      <td>1496278800</td>\n",
              "    </tr>\n",
              "    <tr>\n",
              "      <th>4</th>\n",
              "      <td>689783</td>\n",
              "      <td>1496278800</td>\n",
              "    </tr>\n",
              "    <tr>\n",
              "      <th>5</th>\n",
              "      <td>830028</td>\n",
              "      <td>1496278800</td>\n",
              "    </tr>\n",
              "    <tr>\n",
              "      <th>6</th>\n",
              "      <td>734310</td>\n",
              "      <td>1496278800</td>\n",
              "    </tr>\n",
              "    <tr>\n",
              "      <th>7</th>\n",
              "      <td>788584</td>\n",
              "      <td>1496278800</td>\n",
              "    </tr>\n",
              "    <tr>\n",
              "      <th>8</th>\n",
              "      <td>899313</td>\n",
              "      <td>1496278815</td>\n",
              "    </tr>\n",
              "    <tr>\n",
              "      <th>9</th>\n",
              "      <td>798984</td>\n",
              "      <td>1496278815</td>\n",
              "    </tr>\n",
              "  </tbody>\n",
              "</table>\n",
              "</div>"
            ],
            "text/plain": [
              "   driver_id  ping_timestamp\n",
              "0     899313      1496278800\n",
              "1     373017      1496278800\n",
              "2     798984      1496278800\n",
              "3     245966      1496278800\n",
              "4     689783      1496278800\n",
              "5     830028      1496278800\n",
              "6     734310      1496278800\n",
              "7     788584      1496278800\n",
              "8     899313      1496278815\n",
              "9     798984      1496278815"
            ]
          },
          "metadata": {
            "tags": []
          },
          "execution_count": 15
        }
      ]
    },
    {
      "cell_type": "code",
      "metadata": {
        "id": "5h0FiMkcojDD",
        "outputId": "8c42ba9b-a311-497c-d029-8bfcd4bf5f30"
      },
      "source": [
        "df_pings.info()"
      ],
      "execution_count": null,
      "outputs": [
        {
          "output_type": "stream",
          "text": [
            "<class 'pandas.core.frame.DataFrame'>\n",
            "RangeIndex: 50528701 entries, 0 to 50528700\n",
            "Data columns (total 2 columns):\n",
            " #   Column          Dtype\n",
            "---  ------          -----\n",
            " 0   driver_id       int64\n",
            " 1   ping_timestamp  int64\n",
            "dtypes: int64(2)\n",
            "memory usage: 771.0 MB\n"
          ],
          "name": "stdout"
        }
      ]
    },
    {
      "cell_type": "code",
      "metadata": {
        "id": "YaCeI5qtojDE",
        "outputId": "8451481e-e921-4946-b2ff-28a09da97837"
      },
      "source": [
        "df_pings.sort_values(by = ['driver_id', 'ping_timestamp']).reset_index(drop = True)"
      ],
      "execution_count": null,
      "outputs": [
        {
          "output_type": "execute_result",
          "data": {
            "text/html": [
              "<div>\n",
              "<style scoped>\n",
              "    .dataframe tbody tr th:only-of-type {\n",
              "        vertical-align: middle;\n",
              "    }\n",
              "\n",
              "    .dataframe tbody tr th {\n",
              "        vertical-align: top;\n",
              "    }\n",
              "\n",
              "    .dataframe thead th {\n",
              "        text-align: right;\n",
              "    }\n",
              "</style>\n",
              "<table border=\"1\" class=\"dataframe\">\n",
              "  <thead>\n",
              "    <tr style=\"text-align: right;\">\n",
              "      <th></th>\n",
              "      <th>driver_id</th>\n",
              "      <th>ping_timestamp</th>\n",
              "    </tr>\n",
              "  </thead>\n",
              "  <tbody>\n",
              "    <tr>\n",
              "      <th>0</th>\n",
              "      <td>111556</td>\n",
              "      <td>1496279340</td>\n",
              "    </tr>\n",
              "    <tr>\n",
              "      <th>1</th>\n",
              "      <td>111556</td>\n",
              "      <td>1496279355</td>\n",
              "    </tr>\n",
              "    <tr>\n",
              "      <th>2</th>\n",
              "      <td>111556</td>\n",
              "      <td>1496279370</td>\n",
              "    </tr>\n",
              "    <tr>\n",
              "      <th>3</th>\n",
              "      <td>111556</td>\n",
              "      <td>1496279400</td>\n",
              "    </tr>\n",
              "    <tr>\n",
              "      <th>4</th>\n",
              "      <td>111556</td>\n",
              "      <td>1496279430</td>\n",
              "    </tr>\n",
              "    <tr>\n",
              "      <th>...</th>\n",
              "      <td>...</td>\n",
              "      <td>...</td>\n",
              "    </tr>\n",
              "    <tr>\n",
              "      <th>50528696</th>\n",
              "      <td>998229</td>\n",
              "      <td>1498091640</td>\n",
              "    </tr>\n",
              "    <tr>\n",
              "      <th>50528697</th>\n",
              "      <td>998229</td>\n",
              "      <td>1498091655</td>\n",
              "    </tr>\n",
              "    <tr>\n",
              "      <th>50528698</th>\n",
              "      <td>998229</td>\n",
              "      <td>1498091670</td>\n",
              "    </tr>\n",
              "    <tr>\n",
              "      <th>50528699</th>\n",
              "      <td>998229</td>\n",
              "      <td>1498091685</td>\n",
              "    </tr>\n",
              "    <tr>\n",
              "      <th>50528700</th>\n",
              "      <td>998229</td>\n",
              "      <td>1498091700</td>\n",
              "    </tr>\n",
              "  </tbody>\n",
              "</table>\n",
              "<p>50528701 rows × 2 columns</p>\n",
              "</div>"
            ],
            "text/plain": [
              "          driver_id  ping_timestamp\n",
              "0            111556      1496279340\n",
              "1            111556      1496279355\n",
              "2            111556      1496279370\n",
              "3            111556      1496279400\n",
              "4            111556      1496279430\n",
              "...             ...             ...\n",
              "50528696     998229      1498091640\n",
              "50528697     998229      1498091655\n",
              "50528698     998229      1498091670\n",
              "50528699     998229      1498091685\n",
              "50528700     998229      1498091700\n",
              "\n",
              "[50528701 rows x 2 columns]"
            ]
          },
          "metadata": {
            "tags": []
          },
          "execution_count": 17
        }
      ]
    },
    {
      "cell_type": "code",
      "metadata": {
        "id": "kACrnXK1ojDE",
        "outputId": "01b2a712-9e91-41c2-949d-a3d6325b8d41"
      },
      "source": [
        "df_pings.head(10)"
      ],
      "execution_count": null,
      "outputs": [
        {
          "output_type": "execute_result",
          "data": {
            "text/html": [
              "<div>\n",
              "<style scoped>\n",
              "    .dataframe tbody tr th:only-of-type {\n",
              "        vertical-align: middle;\n",
              "    }\n",
              "\n",
              "    .dataframe tbody tr th {\n",
              "        vertical-align: top;\n",
              "    }\n",
              "\n",
              "    .dataframe thead th {\n",
              "        text-align: right;\n",
              "    }\n",
              "</style>\n",
              "<table border=\"1\" class=\"dataframe\">\n",
              "  <thead>\n",
              "    <tr style=\"text-align: right;\">\n",
              "      <th></th>\n",
              "      <th>driver_id</th>\n",
              "      <th>ping_timestamp</th>\n",
              "    </tr>\n",
              "  </thead>\n",
              "  <tbody>\n",
              "    <tr>\n",
              "      <th>0</th>\n",
              "      <td>899313</td>\n",
              "      <td>1496278800</td>\n",
              "    </tr>\n",
              "    <tr>\n",
              "      <th>1</th>\n",
              "      <td>373017</td>\n",
              "      <td>1496278800</td>\n",
              "    </tr>\n",
              "    <tr>\n",
              "      <th>2</th>\n",
              "      <td>798984</td>\n",
              "      <td>1496278800</td>\n",
              "    </tr>\n",
              "    <tr>\n",
              "      <th>3</th>\n",
              "      <td>245966</td>\n",
              "      <td>1496278800</td>\n",
              "    </tr>\n",
              "    <tr>\n",
              "      <th>4</th>\n",
              "      <td>689783</td>\n",
              "      <td>1496278800</td>\n",
              "    </tr>\n",
              "    <tr>\n",
              "      <th>5</th>\n",
              "      <td>830028</td>\n",
              "      <td>1496278800</td>\n",
              "    </tr>\n",
              "    <tr>\n",
              "      <th>6</th>\n",
              "      <td>734310</td>\n",
              "      <td>1496278800</td>\n",
              "    </tr>\n",
              "    <tr>\n",
              "      <th>7</th>\n",
              "      <td>788584</td>\n",
              "      <td>1496278800</td>\n",
              "    </tr>\n",
              "    <tr>\n",
              "      <th>8</th>\n",
              "      <td>899313</td>\n",
              "      <td>1496278815</td>\n",
              "    </tr>\n",
              "    <tr>\n",
              "      <th>9</th>\n",
              "      <td>798984</td>\n",
              "      <td>1496278815</td>\n",
              "    </tr>\n",
              "  </tbody>\n",
              "</table>\n",
              "</div>"
            ],
            "text/plain": [
              "   driver_id  ping_timestamp\n",
              "0     899313      1496278800\n",
              "1     373017      1496278800\n",
              "2     798984      1496278800\n",
              "3     245966      1496278800\n",
              "4     689783      1496278800\n",
              "5     830028      1496278800\n",
              "6     734310      1496278800\n",
              "7     788584      1496278800\n",
              "8     899313      1496278815\n",
              "9     798984      1496278815"
            ]
          },
          "metadata": {
            "tags": []
          },
          "execution_count": 18
        }
      ]
    },
    {
      "cell_type": "code",
      "metadata": {
        "id": "8_xYEvq9ojDF",
        "outputId": "e4a68ee1-5f09-4aba-b66c-6ecf4cc9c377"
      },
      "source": [
        "# Count missing values\n",
        "np.count_nonzero(df_pings.isnull().values)"
      ],
      "execution_count": null,
      "outputs": [
        {
          "output_type": "execute_result",
          "data": {
            "text/plain": [
              "0"
            ]
          },
          "metadata": {
            "tags": []
          },
          "execution_count": 19
        }
      ]
    },
    {
      "cell_type": "code",
      "metadata": {
        "id": "L8u0LFQpojDG",
        "outputId": "a477fbb0-ca83-4949-cf76-700b236cb0db"
      },
      "source": [
        "# Check Data contains duplicates \n",
        "len(df_pings[df_pings.duplicated(keep=False)])"
      ],
      "execution_count": null,
      "outputs": [
        {
          "output_type": "execute_result",
          "data": {
            "text/plain": [
              "79086"
            ]
          },
          "metadata": {
            "tags": []
          },
          "execution_count": 20
        }
      ]
    },
    {
      "cell_type": "code",
      "metadata": {
        "id": "ubufTSdfojDG"
      },
      "source": [
        "df_pings.drop_duplicates(subset= ['driver_id', 'ping_timestamp'], inplace = True)"
      ],
      "execution_count": null,
      "outputs": []
    },
    {
      "cell_type": "code",
      "metadata": {
        "id": "1HQZ3XmjojDH"
      },
      "source": [
        "df_pings['ping_date']= pd.to_datetime(df_pings['ping_timestamp'], unit= 's')"
      ],
      "execution_count": null,
      "outputs": []
    },
    {
      "cell_type": "code",
      "metadata": {
        "id": "UIpGT8jyojDH"
      },
      "source": [
        "## Converting UTC Time to IST by adding 05:30 time difference\n",
        "df_pings['ping_date'] = df_pings['ping_date']+pd.to_timedelta('05:30:00.00000')"
      ],
      "execution_count": null,
      "outputs": []
    },
    {
      "cell_type": "code",
      "metadata": {
        "id": "UdyfZz_QojDI"
      },
      "source": [
        "df_pings['ping_date'] = df_pings['ping_date'].dt.date"
      ],
      "execution_count": null,
      "outputs": []
    },
    {
      "cell_type": "code",
      "metadata": {
        "id": "ngWi-gIUojDJ"
      },
      "source": [
        "# grouped difference on driverid and ping_date\n",
        "df_pings['diff'] = df_pings.groupby(['driver_id', 'ping_date'])['ping_timestamp'].diff().fillna(0)"
      ],
      "execution_count": null,
      "outputs": []
    },
    {
      "cell_type": "code",
      "metadata": {
        "id": "6FKALubbojDJ",
        "outputId": "f0e4242a-a034-485e-c6ef-b9e4d4a6e0d9"
      },
      "source": [
        "df_pings[(df_pings['driver_id']==111556)]"
      ],
      "execution_count": null,
      "outputs": [
        {
          "output_type": "execute_result",
          "data": {
            "text/html": [
              "<div>\n",
              "<style scoped>\n",
              "    .dataframe tbody tr th:only-of-type {\n",
              "        vertical-align: middle;\n",
              "    }\n",
              "\n",
              "    .dataframe tbody tr th {\n",
              "        vertical-align: top;\n",
              "    }\n",
              "\n",
              "    .dataframe thead th {\n",
              "        text-align: right;\n",
              "    }\n",
              "</style>\n",
              "<table border=\"1\" class=\"dataframe\">\n",
              "  <thead>\n",
              "    <tr style=\"text-align: right;\">\n",
              "      <th></th>\n",
              "      <th>driver_id</th>\n",
              "      <th>ping_timestamp</th>\n",
              "      <th>ping_date</th>\n",
              "      <th>diff</th>\n",
              "    </tr>\n",
              "  </thead>\n",
              "  <tbody>\n",
              "    <tr>\n",
              "      <th>1315</th>\n",
              "      <td>111556</td>\n",
              "      <td>1496279340</td>\n",
              "      <td>2017-06-01</td>\n",
              "      <td>0.0</td>\n",
              "    </tr>\n",
              "    <tr>\n",
              "      <th>1388</th>\n",
              "      <td>111556</td>\n",
              "      <td>1496279355</td>\n",
              "      <td>2017-06-01</td>\n",
              "      <td>15.0</td>\n",
              "    </tr>\n",
              "    <tr>\n",
              "      <th>1453</th>\n",
              "      <td>111556</td>\n",
              "      <td>1496279370</td>\n",
              "      <td>2017-06-01</td>\n",
              "      <td>15.0</td>\n",
              "    </tr>\n",
              "    <tr>\n",
              "      <th>1593</th>\n",
              "      <td>111556</td>\n",
              "      <td>1496279400</td>\n",
              "      <td>2017-06-01</td>\n",
              "      <td>30.0</td>\n",
              "    </tr>\n",
              "    <tr>\n",
              "      <th>1749</th>\n",
              "      <td>111556</td>\n",
              "      <td>1496279430</td>\n",
              "      <td>2017-06-01</td>\n",
              "      <td>30.0</td>\n",
              "    </tr>\n",
              "    <tr>\n",
              "      <th>...</th>\n",
              "      <td>...</td>\n",
              "      <td>...</td>\n",
              "      <td>...</td>\n",
              "      <td>...</td>\n",
              "    </tr>\n",
              "    <tr>\n",
              "      <th>48602451</th>\n",
              "      <td>111556</td>\n",
              "      <td>1498020645</td>\n",
              "      <td>2017-06-21</td>\n",
              "      <td>15.0</td>\n",
              "    </tr>\n",
              "    <tr>\n",
              "      <th>48603510</th>\n",
              "      <td>111556</td>\n",
              "      <td>1498020660</td>\n",
              "      <td>2017-06-21</td>\n",
              "      <td>15.0</td>\n",
              "    </tr>\n",
              "    <tr>\n",
              "      <th>48604563</th>\n",
              "      <td>111556</td>\n",
              "      <td>1498020675</td>\n",
              "      <td>2017-06-21</td>\n",
              "      <td>15.0</td>\n",
              "    </tr>\n",
              "    <tr>\n",
              "      <th>48605616</th>\n",
              "      <td>111556</td>\n",
              "      <td>1498020690</td>\n",
              "      <td>2017-06-21</td>\n",
              "      <td>15.0</td>\n",
              "    </tr>\n",
              "    <tr>\n",
              "      <th>48607727</th>\n",
              "      <td>111556</td>\n",
              "      <td>1498020720</td>\n",
              "      <td>2017-06-21</td>\n",
              "      <td>30.0</td>\n",
              "    </tr>\n",
              "  </tbody>\n",
              "</table>\n",
              "<p>8594 rows × 4 columns</p>\n",
              "</div>"
            ],
            "text/plain": [
              "          driver_id  ping_timestamp   ping_date  diff\n",
              "1315         111556      1496279340  2017-06-01   0.0\n",
              "1388         111556      1496279355  2017-06-01  15.0\n",
              "1453         111556      1496279370  2017-06-01  15.0\n",
              "1593         111556      1496279400  2017-06-01  30.0\n",
              "1749         111556      1496279430  2017-06-01  30.0\n",
              "...             ...             ...         ...   ...\n",
              "48602451     111556      1498020645  2017-06-21  15.0\n",
              "48603510     111556      1498020660  2017-06-21  15.0\n",
              "48604563     111556      1498020675  2017-06-21  15.0\n",
              "48605616     111556      1498020690  2017-06-21  15.0\n",
              "48607727     111556      1498020720  2017-06-21  30.0\n",
              "\n",
              "[8594 rows x 4 columns]"
            ]
          },
          "metadata": {
            "tags": []
          },
          "execution_count": 26
        }
      ]
    },
    {
      "cell_type": "code",
      "metadata": {
        "id": "Rykzqhz5ojDQ",
        "outputId": "0c57e14c-848e-44d6-d77d-65c9c86e0039"
      },
      "source": [
        "df_pings['diff'].value_counts().head(10)"
      ],
      "execution_count": null,
      "outputs": [
        {
          "output_type": "execute_result",
          "data": {
            "text/plain": [
              "15.0       45425180\n",
              "30.0        4545394\n",
              "45.0         425575\n",
              "0.0           42331\n",
              "60.0          41808\n",
              "75.0           4014\n",
              "90.0            457\n",
              "105.0            45\n",
              "56940.0          22\n",
              "60480.0          18\n",
              "Name: diff, dtype: int64"
            ]
          },
          "metadata": {
            "tags": []
          },
          "execution_count": 27
        }
      ]
    },
    {
      "cell_type": "markdown",
      "metadata": {
        "id": "JKcQgZ6lojDQ"
      },
      "source": [
        "### To get hours of driver being available for a day we sum all difference timestamps which are within PING_THRESHOLD "
      ]
    },
    {
      "cell_type": "code",
      "metadata": {
        "id": "GecszlCiojDR"
      },
      "source": [
        "PING_THRESHOLD = 60"
      ],
      "execution_count": null,
      "outputs": []
    },
    {
      "cell_type": "code",
      "metadata": {
        "id": "_G94Lp9XojDR",
        "outputId": "9b1cf8f6-91aa-40a5-e3f7-3eaa701624f8"
      },
      "source": [
        "df_pings[df_pings['diff']<=PING_THRESHOLD].head()"
      ],
      "execution_count": null,
      "outputs": [
        {
          "output_type": "execute_result",
          "data": {
            "text/html": [
              "<div>\n",
              "<style scoped>\n",
              "    .dataframe tbody tr th:only-of-type {\n",
              "        vertical-align: middle;\n",
              "    }\n",
              "\n",
              "    .dataframe tbody tr th {\n",
              "        vertical-align: top;\n",
              "    }\n",
              "\n",
              "    .dataframe thead th {\n",
              "        text-align: right;\n",
              "    }\n",
              "</style>\n",
              "<table border=\"1\" class=\"dataframe\">\n",
              "  <thead>\n",
              "    <tr style=\"text-align: right;\">\n",
              "      <th></th>\n",
              "      <th>driver_id</th>\n",
              "      <th>ping_timestamp</th>\n",
              "      <th>ping_date</th>\n",
              "      <th>diff</th>\n",
              "    </tr>\n",
              "  </thead>\n",
              "  <tbody>\n",
              "    <tr>\n",
              "      <th>0</th>\n",
              "      <td>899313</td>\n",
              "      <td>1496278800</td>\n",
              "      <td>2017-06-01</td>\n",
              "      <td>0.0</td>\n",
              "    </tr>\n",
              "    <tr>\n",
              "      <th>1</th>\n",
              "      <td>373017</td>\n",
              "      <td>1496278800</td>\n",
              "      <td>2017-06-01</td>\n",
              "      <td>0.0</td>\n",
              "    </tr>\n",
              "    <tr>\n",
              "      <th>2</th>\n",
              "      <td>798984</td>\n",
              "      <td>1496278800</td>\n",
              "      <td>2017-06-01</td>\n",
              "      <td>0.0</td>\n",
              "    </tr>\n",
              "    <tr>\n",
              "      <th>3</th>\n",
              "      <td>245966</td>\n",
              "      <td>1496278800</td>\n",
              "      <td>2017-06-01</td>\n",
              "      <td>0.0</td>\n",
              "    </tr>\n",
              "    <tr>\n",
              "      <th>4</th>\n",
              "      <td>689783</td>\n",
              "      <td>1496278800</td>\n",
              "      <td>2017-06-01</td>\n",
              "      <td>0.0</td>\n",
              "    </tr>\n",
              "  </tbody>\n",
              "</table>\n",
              "</div>"
            ],
            "text/plain": [
              "   driver_id  ping_timestamp   ping_date  diff\n",
              "0     899313      1496278800  2017-06-01   0.0\n",
              "1     373017      1496278800  2017-06-01   0.0\n",
              "2     798984      1496278800  2017-06-01   0.0\n",
              "3     245966      1496278800  2017-06-01   0.0\n",
              "4     689783      1496278800  2017-06-01   0.0"
            ]
          },
          "metadata": {
            "tags": []
          },
          "execution_count": 29
        }
      ]
    },
    {
      "cell_type": "code",
      "metadata": {
        "id": "O-S6CB38ojDS"
      },
      "source": [
        "data = pd.DataFrame(df_pings[df_pings['diff']<=PING_THRESHOLD].groupby(by=['driver_id','ping_date'])['diff'].agg('sum')).reset_index()\n",
        "data.columns = ['driver_id', 'date','available_hours']\n",
        "# Secs to Hours\n",
        "data['available_hours'] = round(data['available_hours']*(1.0/3600.0), 1)"
      ],
      "execution_count": null,
      "outputs": []
    },
    {
      "cell_type": "code",
      "metadata": {
        "id": "h-kM6dqdojDS",
        "outputId": "b9b2d7f7-7ed6-4100-8e82-40fe08e2a101"
      },
      "source": [
        "data.head(8)"
      ],
      "execution_count": null,
      "outputs": [
        {
          "output_type": "execute_result",
          "data": {
            "text/html": [
              "<div>\n",
              "<style scoped>\n",
              "    .dataframe tbody tr th:only-of-type {\n",
              "        vertical-align: middle;\n",
              "    }\n",
              "\n",
              "    .dataframe tbody tr th {\n",
              "        vertical-align: top;\n",
              "    }\n",
              "\n",
              "    .dataframe thead th {\n",
              "        text-align: right;\n",
              "    }\n",
              "</style>\n",
              "<table border=\"1\" class=\"dataframe\">\n",
              "  <thead>\n",
              "    <tr style=\"text-align: right;\">\n",
              "      <th></th>\n",
              "      <th>driver_id</th>\n",
              "      <th>date</th>\n",
              "      <th>available_hours</th>\n",
              "    </tr>\n",
              "  </thead>\n",
              "  <tbody>\n",
              "    <tr>\n",
              "      <th>0</th>\n",
              "      <td>111556</td>\n",
              "      <td>2017-06-01</td>\n",
              "      <td>2.2</td>\n",
              "    </tr>\n",
              "    <tr>\n",
              "      <th>1</th>\n",
              "      <td>111556</td>\n",
              "      <td>2017-06-02</td>\n",
              "      <td>2.5</td>\n",
              "    </tr>\n",
              "    <tr>\n",
              "      <th>2</th>\n",
              "      <td>111556</td>\n",
              "      <td>2017-06-05</td>\n",
              "      <td>4.7</td>\n",
              "    </tr>\n",
              "    <tr>\n",
              "      <th>3</th>\n",
              "      <td>111556</td>\n",
              "      <td>2017-06-06</td>\n",
              "      <td>3.1</td>\n",
              "    </tr>\n",
              "    <tr>\n",
              "      <th>4</th>\n",
              "      <td>111556</td>\n",
              "      <td>2017-06-07</td>\n",
              "      <td>2.6</td>\n",
              "    </tr>\n",
              "    <tr>\n",
              "      <th>5</th>\n",
              "      <td>111556</td>\n",
              "      <td>2017-06-08</td>\n",
              "      <td>3.2</td>\n",
              "    </tr>\n",
              "    <tr>\n",
              "      <th>6</th>\n",
              "      <td>111556</td>\n",
              "      <td>2017-06-09</td>\n",
              "      <td>4.4</td>\n",
              "    </tr>\n",
              "    <tr>\n",
              "      <th>7</th>\n",
              "      <td>111556</td>\n",
              "      <td>2017-06-12</td>\n",
              "      <td>3.7</td>\n",
              "    </tr>\n",
              "  </tbody>\n",
              "</table>\n",
              "</div>"
            ],
            "text/plain": [
              "   driver_id        date  available_hours\n",
              "0     111556  2017-06-01              2.2\n",
              "1     111556  2017-06-02              2.5\n",
              "2     111556  2017-06-05              4.7\n",
              "3     111556  2017-06-06              3.1\n",
              "4     111556  2017-06-07              2.6\n",
              "5     111556  2017-06-08              3.2\n",
              "6     111556  2017-06-09              4.4\n",
              "7     111556  2017-06-12              3.7"
            ]
          },
          "metadata": {
            "tags": []
          },
          "execution_count": 31
        }
      ]
    },
    {
      "cell_type": "code",
      "metadata": {
        "id": "fQQiANMdojDT"
      },
      "source": [
        "## Fill in missing Date For Driver with Available_hours = 0\n",
        "data.date = pd.to_datetime(data.date)\n",
        "data = data.set_index(\n",
        "    ['date', 'driver_id']\n",
        ").unstack(\n",
        "    fill_value=0\n",
        ").asfreq(\n",
        "    'D', fill_value=0\n",
        ").stack().sort_index(level=1).reset_index()"
      ],
      "execution_count": null,
      "outputs": []
    },
    {
      "cell_type": "code",
      "metadata": {
        "id": "QAOjKQLeojDT",
        "outputId": "2f97f423-c99d-496b-9d62-b5f09d22cc44"
      },
      "source": [
        "data"
      ],
      "execution_count": null,
      "outputs": [
        {
          "output_type": "execute_result",
          "data": {
            "text/html": [
              "<div>\n",
              "<style scoped>\n",
              "    .dataframe tbody tr th:only-of-type {\n",
              "        vertical-align: middle;\n",
              "    }\n",
              "\n",
              "    .dataframe tbody tr th {\n",
              "        vertical-align: top;\n",
              "    }\n",
              "\n",
              "    .dataframe thead th {\n",
              "        text-align: right;\n",
              "    }\n",
              "</style>\n",
              "<table border=\"1\" class=\"dataframe\">\n",
              "  <thead>\n",
              "    <tr style=\"text-align: right;\">\n",
              "      <th></th>\n",
              "      <th>date</th>\n",
              "      <th>driver_id</th>\n",
              "      <th>available_hours</th>\n",
              "    </tr>\n",
              "  </thead>\n",
              "  <tbody>\n",
              "    <tr>\n",
              "      <th>0</th>\n",
              "      <td>2017-06-01</td>\n",
              "      <td>111556</td>\n",
              "      <td>2.2</td>\n",
              "    </tr>\n",
              "    <tr>\n",
              "      <th>1</th>\n",
              "      <td>2017-06-02</td>\n",
              "      <td>111556</td>\n",
              "      <td>2.5</td>\n",
              "    </tr>\n",
              "    <tr>\n",
              "      <th>2</th>\n",
              "      <td>2017-06-03</td>\n",
              "      <td>111556</td>\n",
              "      <td>0.0</td>\n",
              "    </tr>\n",
              "    <tr>\n",
              "      <th>3</th>\n",
              "      <td>2017-06-04</td>\n",
              "      <td>111556</td>\n",
              "      <td>0.0</td>\n",
              "    </tr>\n",
              "    <tr>\n",
              "      <th>4</th>\n",
              "      <td>2017-06-05</td>\n",
              "      <td>111556</td>\n",
              "      <td>4.7</td>\n",
              "    </tr>\n",
              "    <tr>\n",
              "      <th>...</th>\n",
              "      <td>...</td>\n",
              "      <td>...</td>\n",
              "      <td>...</td>\n",
              "    </tr>\n",
              "    <tr>\n",
              "      <th>54555</th>\n",
              "      <td>2017-06-18</td>\n",
              "      <td>998229</td>\n",
              "      <td>5.3</td>\n",
              "    </tr>\n",
              "    <tr>\n",
              "      <th>54556</th>\n",
              "      <td>2017-06-19</td>\n",
              "      <td>998229</td>\n",
              "      <td>6.0</td>\n",
              "    </tr>\n",
              "    <tr>\n",
              "      <th>54557</th>\n",
              "      <td>2017-06-20</td>\n",
              "      <td>998229</td>\n",
              "      <td>6.0</td>\n",
              "    </tr>\n",
              "    <tr>\n",
              "      <th>54558</th>\n",
              "      <td>2017-06-21</td>\n",
              "      <td>998229</td>\n",
              "      <td>2.9</td>\n",
              "    </tr>\n",
              "    <tr>\n",
              "      <th>54559</th>\n",
              "      <td>2017-06-22</td>\n",
              "      <td>998229</td>\n",
              "      <td>6.1</td>\n",
              "    </tr>\n",
              "  </tbody>\n",
              "</table>\n",
              "<p>54560 rows × 3 columns</p>\n",
              "</div>"
            ],
            "text/plain": [
              "            date  driver_id  available_hours\n",
              "0     2017-06-01     111556              2.2\n",
              "1     2017-06-02     111556              2.5\n",
              "2     2017-06-03     111556              0.0\n",
              "3     2017-06-04     111556              0.0\n",
              "4     2017-06-05     111556              4.7\n",
              "...          ...        ...              ...\n",
              "54555 2017-06-18     998229              5.3\n",
              "54556 2017-06-19     998229              6.0\n",
              "54557 2017-06-20     998229              6.0\n",
              "54558 2017-06-21     998229              2.9\n",
              "54559 2017-06-22     998229              6.1\n",
              "\n",
              "[54560 rows x 3 columns]"
            ]
          },
          "metadata": {
            "tags": []
          },
          "execution_count": 33
        }
      ]
    },
    {
      "cell_type": "markdown",
      "metadata": {
        "id": "DgjBu0qyojDV"
      },
      "source": [
        "### For some drivers there is ping data for even 22 June, removing that. \n",
        "#### Given in Problem Statement Data is provided from 1st June to 21st June"
      ]
    },
    {
      "cell_type": "code",
      "metadata": {
        "id": "Pjm-NqSNojDW"
      },
      "source": [
        "data= data[data.date!='2017-06-22']"
      ],
      "execution_count": null,
      "outputs": []
    },
    {
      "cell_type": "code",
      "metadata": {
        "id": "P3saEgMGojDW"
      },
      "source": [
        "data.reset_index(drop = True, inplace = True)"
      ],
      "execution_count": null,
      "outputs": []
    },
    {
      "cell_type": "code",
      "metadata": {
        "id": "9EJuJF3sojDW",
        "outputId": "4ce01aab-9d1f-4471-80e3-22d85e652c24"
      },
      "source": [
        "profile = data.profile_report(title='Driver_Pings Data Analysis')"
      ],
      "execution_count": null,
      "outputs": [
        {
          "output_type": "stream",
          "text": [
            "/opt/anaconda3/lib/python3.7/site-packages/pandas/core/frame.py:4133: SettingWithCopyWarning: \n",
            "A value is trying to be set on a copy of a slice from a DataFrame\n",
            "\n",
            "See the caveats in the documentation: https://pandas.pydata.org/pandas-docs/stable/user_guide/indexing.html#returning-a-view-versus-a-copy\n",
            "  errors=errors,\n"
          ],
          "name": "stderr"
        }
      ]
    },
    {
      "cell_type": "code",
      "metadata": {
        "colab": {
          "referenced_widgets": [
            "30731c99bad34844bdb5538e3a06e753",
            "7f5bb72980b644ea84055720a518dd11",
            "7d69259d5f344099ba0b974bcdbbb582",
            "ba0e19c2a4e14b6d8b77ed35c266eb3b"
          ]
        },
        "id": "IBb4gH0gojDX",
        "outputId": "843da4d9-3a87-4e83-be50-352842b32580"
      },
      "source": [
        "profile.to_file(output_file=\"../data_analysis_EDA/driver_pings_hours.html\")"
      ],
      "execution_count": null,
      "outputs": [
        {
          "output_type": "display_data",
          "data": {
            "application/vnd.jupyter.widget-view+json": {
              "model_id": "30731c99bad34844bdb5538e3a06e753",
              "version_major": 2,
              "version_minor": 0
            },
            "text/plain": [
              "HBox(children=(FloatProgress(value=0.0, description='Summarize dataset', max=18.0, style=ProgressStyle(descrip…"
            ]
          },
          "metadata": {
            "tags": []
          }
        },
        {
          "output_type": "stream",
          "text": [
            "/opt/anaconda3/lib/python3.7/site-packages/pandas/core/generic.py:6245: SettingWithCopyWarning: \n",
            "A value is trying to be set on a copy of a slice from a DataFrame\n",
            "\n",
            "See the caveats in the documentation: https://pandas.pydata.org/pandas-docs/stable/user_guide/indexing.html#returning-a-view-versus-a-copy\n",
            "  self._update_inplace(new_data)\n"
          ],
          "name": "stderr"
        },
        {
          "output_type": "stream",
          "text": [
            "\n"
          ],
          "name": "stdout"
        },
        {
          "output_type": "display_data",
          "data": {
            "application/vnd.jupyter.widget-view+json": {
              "model_id": "7f5bb72980b644ea84055720a518dd11",
              "version_major": 2,
              "version_minor": 0
            },
            "text/plain": [
              "HBox(children=(FloatProgress(value=0.0, description='Generate report structure', max=1.0, style=ProgressStyle(…"
            ]
          },
          "metadata": {
            "tags": []
          }
        },
        {
          "output_type": "stream",
          "text": [
            "\n"
          ],
          "name": "stdout"
        },
        {
          "output_type": "display_data",
          "data": {
            "application/vnd.jupyter.widget-view+json": {
              "model_id": "7d69259d5f344099ba0b974bcdbbb582",
              "version_major": 2,
              "version_minor": 0
            },
            "text/plain": [
              "HBox(children=(FloatProgress(value=0.0, description='Render HTML', max=1.0, style=ProgressStyle(description_wi…"
            ]
          },
          "metadata": {
            "tags": []
          }
        },
        {
          "output_type": "stream",
          "text": [
            "\n"
          ],
          "name": "stdout"
        },
        {
          "output_type": "display_data",
          "data": {
            "application/vnd.jupyter.widget-view+json": {
              "model_id": "ba0e19c2a4e14b6d8b77ed35c266eb3b",
              "version_major": 2,
              "version_minor": 0
            },
            "text/plain": [
              "HBox(children=(FloatProgress(value=0.0, description='Export report to file', max=1.0, style=ProgressStyle(desc…"
            ]
          },
          "metadata": {
            "tags": []
          }
        },
        {
          "output_type": "stream",
          "text": [
            "\n"
          ],
          "name": "stdout"
        }
      ]
    },
    {
      "cell_type": "code",
      "metadata": {
        "id": "OpWF2iB4ojDY"
      },
      "source": [
        "data.to_csv('../processed_data_and_models/Pings_Grouped_Data.csv',index = False)"
      ],
      "execution_count": null,
      "outputs": []
    },
    {
      "cell_type": "code",
      "metadata": {
        "colab": {
          "referenced_widgets": [
            "655a4121cd044ef8b9ffacba8e2c8492",
            "60d8e3fd02354d1bb7ac92288ee3bebc",
            "c499d9d3ac7a4d7ba2ffda79ac534a71",
            "f4659ace3d594078b04d07feb3ef008d"
          ]
        },
        "id": "fpSLCp-fojDY",
        "outputId": "a1ac2554-19ff-46a8-8d8c-c40c34e14db9"
      },
      "source": [
        "pd.read_csv('./../data/test.csv').profile_report(title = 'Drivers_Test Data').to_file(output_file=\"../data_analysis_EDA/test_driver.html\")"
      ],
      "execution_count": null,
      "outputs": [
        {
          "output_type": "display_data",
          "data": {
            "application/vnd.jupyter.widget-view+json": {
              "model_id": "655a4121cd044ef8b9ffacba8e2c8492",
              "version_major": 2,
              "version_minor": 0
            },
            "text/plain": [
              "HBox(children=(FloatProgress(value=0.0, description='Summarize dataset', max=17.0, style=ProgressStyle(descrip…"
            ]
          },
          "metadata": {
            "tags": []
          }
        },
        {
          "output_type": "stream",
          "text": [
            "\n"
          ],
          "name": "stdout"
        },
        {
          "output_type": "display_data",
          "data": {
            "application/vnd.jupyter.widget-view+json": {
              "model_id": "60d8e3fd02354d1bb7ac92288ee3bebc",
              "version_major": 2,
              "version_minor": 0
            },
            "text/plain": [
              "HBox(children=(FloatProgress(value=0.0, description='Generate report structure', max=1.0, style=ProgressStyle(…"
            ]
          },
          "metadata": {
            "tags": []
          }
        },
        {
          "output_type": "stream",
          "text": [
            "\n"
          ],
          "name": "stdout"
        },
        {
          "output_type": "display_data",
          "data": {
            "application/vnd.jupyter.widget-view+json": {
              "model_id": "c499d9d3ac7a4d7ba2ffda79ac534a71",
              "version_major": 2,
              "version_minor": 0
            },
            "text/plain": [
              "HBox(children=(FloatProgress(value=0.0, description='Render HTML', max=1.0, style=ProgressStyle(description_wi…"
            ]
          },
          "metadata": {
            "tags": []
          }
        },
        {
          "output_type": "stream",
          "text": [
            "\n"
          ],
          "name": "stdout"
        },
        {
          "output_type": "display_data",
          "data": {
            "application/vnd.jupyter.widget-view+json": {
              "model_id": "f4659ace3d594078b04d07feb3ef008d",
              "version_major": 2,
              "version_minor": 0
            },
            "text/plain": [
              "HBox(children=(FloatProgress(value=0.0, description='Export report to file', max=1.0, style=ProgressStyle(desc…"
            ]
          },
          "metadata": {
            "tags": []
          }
        },
        {
          "output_type": "stream",
          "text": [
            "\n"
          ],
          "name": "stdout"
        }
      ]
    }
  ]
}